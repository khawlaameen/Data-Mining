{
 "cells": [
  {
   "cell_type": "markdown",
   "metadata": {},
   "source": [
    "# Basket Market Analysis Using `Apriori`"
   ]
  },
  {
   "cell_type": "markdown",
   "metadata": {},
   "source": [
    "#### Importing libraries"
   ]
  },
  {
   "cell_type": "code",
   "execution_count": 1,
   "metadata": {},
   "outputs": [],
   "source": [
    "import pandas as pd\n",
    "from mlxtend.preprocessing import TransactionEncoder\n",
    "from mlxtend.frequent_patterns import apriori, association_rules\n",
    "import matplotlib.pyplot as plt"
   ]
  },
  {
   "cell_type": "markdown",
   "metadata": {},
   "source": [
    "#### Dataset"
   ]
  },
  {
   "cell_type": "code",
   "execution_count": 4,
   "metadata": {},
   "outputs": [
    {
     "name": "stderr",
     "output_type": "stream",
     "text": [
      "d:\\Anaconda\\lib\\site-packages\\ipykernel\\ipkernel.py:287: DeprecationWarning: `should_run_async` will not call `transform_cell` automatically in the future. Please pass the result to `transformed_cell` argument and any exception that happen during thetransform in `preprocessing_exc_tuple` in IPython 7.17 and above.\n",
      "  and should_run_async(code)\n"
     ]
    },
    {
     "data": {
      "text/html": [
       "<div>\n",
       "<style scoped>\n",
       "    .dataframe tbody tr th:only-of-type {\n",
       "        vertical-align: middle;\n",
       "    }\n",
       "\n",
       "    .dataframe tbody tr th {\n",
       "        vertical-align: top;\n",
       "    }\n",
       "\n",
       "    .dataframe thead th {\n",
       "        text-align: right;\n",
       "    }\n",
       "</style>\n",
       "<table border=\"1\" class=\"dataframe\">\n",
       "  <thead>\n",
       "    <tr style=\"text-align: right;\">\n",
       "      <th></th>\n",
       "      <th>Transaction</th>\n",
       "      <th>Items</th>\n",
       "    </tr>\n",
       "  </thead>\n",
       "  <tbody>\n",
       "    <tr>\n",
       "      <th>0</th>\n",
       "      <td>101</td>\n",
       "      <td>[bread, milk, eggs]</td>\n",
       "    </tr>\n",
       "    <tr>\n",
       "      <th>1</th>\n",
       "      <td>102</td>\n",
       "      <td>[bread, diapers, beer, eggs]</td>\n",
       "    </tr>\n",
       "    <tr>\n",
       "      <th>2</th>\n",
       "      <td>103</td>\n",
       "      <td>[milk, diapers, beer, cola]</td>\n",
       "    </tr>\n",
       "    <tr>\n",
       "      <th>3</th>\n",
       "      <td>104</td>\n",
       "      <td>[bread, milk, diapers, beer, cola]</td>\n",
       "    </tr>\n",
       "    <tr>\n",
       "      <th>4</th>\n",
       "      <td>105</td>\n",
       "      <td>[bread, milk, diapers, beer]</td>\n",
       "    </tr>\n",
       "    <tr>\n",
       "      <th>5</th>\n",
       "      <td>106</td>\n",
       "      <td>[bread, milk, diapers]</td>\n",
       "    </tr>\n",
       "    <tr>\n",
       "      <th>6</th>\n",
       "      <td>107</td>\n",
       "      <td>[bread, milk, beer]</td>\n",
       "    </tr>\n",
       "    <tr>\n",
       "      <th>7</th>\n",
       "      <td>108</td>\n",
       "      <td>[bread, diapers, beer]</td>\n",
       "    </tr>\n",
       "    <tr>\n",
       "      <th>8</th>\n",
       "      <td>109</td>\n",
       "      <td>[milk, diapers, beer]</td>\n",
       "    </tr>\n",
       "    <tr>\n",
       "      <th>9</th>\n",
       "      <td>110</td>\n",
       "      <td>[bread, milk, diapers, beer]</td>\n",
       "    </tr>\n",
       "    <tr>\n",
       "      <th>10</th>\n",
       "      <td>111</td>\n",
       "      <td>[bread, milk, diapers]</td>\n",
       "    </tr>\n",
       "    <tr>\n",
       "      <th>11</th>\n",
       "      <td>112</td>\n",
       "      <td>[bread, milk, beer]</td>\n",
       "    </tr>\n",
       "    <tr>\n",
       "      <th>12</th>\n",
       "      <td>113</td>\n",
       "      <td>[bread, diapers, beer]</td>\n",
       "    </tr>\n",
       "    <tr>\n",
       "      <th>13</th>\n",
       "      <td>114</td>\n",
       "      <td>[milk, diapers, beer]</td>\n",
       "    </tr>\n",
       "    <tr>\n",
       "      <th>14</th>\n",
       "      <td>115</td>\n",
       "      <td>[bread, milk, diapers, beer]</td>\n",
       "    </tr>\n",
       "    <tr>\n",
       "      <th>15</th>\n",
       "      <td>116</td>\n",
       "      <td>[bread, milk, eggs]</td>\n",
       "    </tr>\n",
       "    <tr>\n",
       "      <th>16</th>\n",
       "      <td>117</td>\n",
       "      <td>[bread, diapers, beer, eggs]</td>\n",
       "    </tr>\n",
       "    <tr>\n",
       "      <th>17</th>\n",
       "      <td>118</td>\n",
       "      <td>[milk, diapers, beer, cola]</td>\n",
       "    </tr>\n",
       "    <tr>\n",
       "      <th>18</th>\n",
       "      <td>119</td>\n",
       "      <td>[bread, milk, diapers, beer, cola]</td>\n",
       "    </tr>\n",
       "    <tr>\n",
       "      <th>19</th>\n",
       "      <td>120</td>\n",
       "      <td>[bread, milk, diapers, beer]</td>\n",
       "    </tr>\n",
       "    <tr>\n",
       "      <th>20</th>\n",
       "      <td>121</td>\n",
       "      <td>[bread, milk, diapers]</td>\n",
       "    </tr>\n",
       "    <tr>\n",
       "      <th>21</th>\n",
       "      <td>122</td>\n",
       "      <td>[bread, milk, beer]</td>\n",
       "    </tr>\n",
       "    <tr>\n",
       "      <th>22</th>\n",
       "      <td>123</td>\n",
       "      <td>[bread, diapers, beer]</td>\n",
       "    </tr>\n",
       "    <tr>\n",
       "      <th>23</th>\n",
       "      <td>124</td>\n",
       "      <td>[milk, diapers, beer]</td>\n",
       "    </tr>\n",
       "    <tr>\n",
       "      <th>24</th>\n",
       "      <td>125</td>\n",
       "      <td>[bread, milk, diapers, beer]</td>\n",
       "    </tr>\n",
       "    <tr>\n",
       "      <th>25</th>\n",
       "      <td>126</td>\n",
       "      <td>[bread, milk, diapers]</td>\n",
       "    </tr>\n",
       "    <tr>\n",
       "      <th>26</th>\n",
       "      <td>127</td>\n",
       "      <td>[bread, milk, beer]</td>\n",
       "    </tr>\n",
       "    <tr>\n",
       "      <th>27</th>\n",
       "      <td>128</td>\n",
       "      <td>[bread, diapers, beer]</td>\n",
       "    </tr>\n",
       "    <tr>\n",
       "      <th>28</th>\n",
       "      <td>129</td>\n",
       "      <td>[milk, diapers, beer]</td>\n",
       "    </tr>\n",
       "    <tr>\n",
       "      <th>29</th>\n",
       "      <td>130</td>\n",
       "      <td>[bread, milk, diapers, beer]</td>\n",
       "    </tr>\n",
       "  </tbody>\n",
       "</table>\n",
       "</div>"
      ],
      "text/plain": [
       "    Transaction                               Items\n",
       "0           101                 [bread, milk, eggs]\n",
       "1           102        [bread, diapers, beer, eggs]\n",
       "2           103         [milk, diapers, beer, cola]\n",
       "3           104  [bread, milk, diapers, beer, cola]\n",
       "4           105        [bread, milk, diapers, beer]\n",
       "5           106              [bread, milk, diapers]\n",
       "6           107                 [bread, milk, beer]\n",
       "7           108              [bread, diapers, beer]\n",
       "8           109               [milk, diapers, beer]\n",
       "9           110        [bread, milk, diapers, beer]\n",
       "10          111              [bread, milk, diapers]\n",
       "11          112                 [bread, milk, beer]\n",
       "12          113              [bread, diapers, beer]\n",
       "13          114               [milk, diapers, beer]\n",
       "14          115        [bread, milk, diapers, beer]\n",
       "15          116                 [bread, milk, eggs]\n",
       "16          117        [bread, diapers, beer, eggs]\n",
       "17          118         [milk, diapers, beer, cola]\n",
       "18          119  [bread, milk, diapers, beer, cola]\n",
       "19          120        [bread, milk, diapers, beer]\n",
       "20          121              [bread, milk, diapers]\n",
       "21          122                 [bread, milk, beer]\n",
       "22          123              [bread, diapers, beer]\n",
       "23          124               [milk, diapers, beer]\n",
       "24          125        [bread, milk, diapers, beer]\n",
       "25          126              [bread, milk, diapers]\n",
       "26          127                 [bread, milk, beer]\n",
       "27          128              [bread, diapers, beer]\n",
       "28          129               [milk, diapers, beer]\n",
       "29          130        [bread, milk, diapers, beer]"
      ]
     },
     "execution_count": 4,
     "metadata": {},
     "output_type": "execute_result"
    }
   ],
   "source": [
    "# Dataset\n",
    "data = {\n",
    "    'Transaction': list(range(101, 131)),\n",
    "    'Items': [['bread', 'milk', 'eggs'],\n",
    "              ['bread', 'diapers', 'beer', 'eggs'],\n",
    "              ['milk', 'diapers', 'beer', 'cola'],\n",
    "              ['bread', 'milk', 'diapers', 'beer', 'cola'],\n",
    "              ['bread', 'milk', 'diapers', 'beer'],\n",
    "              ['bread', 'milk', 'diapers'],\n",
    "              ['bread', 'milk', 'beer'],\n",
    "              ['bread', 'diapers', 'beer'],\n",
    "              ['milk', 'diapers', 'beer'],\n",
    "              ['bread', 'milk', 'diapers', 'beer'],\n",
    "              ['bread', 'milk', 'diapers'],\n",
    "              ['bread', 'milk', 'beer'],\n",
    "              ['bread', 'diapers', 'beer'],\n",
    "              ['milk', 'diapers', 'beer'],\n",
    "              ['bread', 'milk', 'diapers', 'beer'],\n",
    "              ['bread', 'milk', 'eggs'],\n",
    "              ['bread', 'diapers', 'beer', 'eggs'],\n",
    "              ['milk', 'diapers', 'beer', 'cola'],\n",
    "              ['bread', 'milk', 'diapers', 'beer', 'cola'],\n",
    "              ['bread', 'milk', 'diapers', 'beer'],\n",
    "              ['bread', 'milk', 'diapers'],\n",
    "              ['bread', 'milk', 'beer'],\n",
    "              ['bread', 'diapers', 'beer'],\n",
    "              ['milk', 'diapers', 'beer'],\n",
    "              ['bread', 'milk', 'diapers', 'beer'],\n",
    "              ['bread', 'milk', 'diapers'],\n",
    "              ['bread', 'milk', 'beer'],\n",
    "              ['bread', 'diapers', 'beer'],\n",
    "              ['milk', 'diapers', 'beer'],\n",
    "              ['bread', 'milk', 'diapers', 'beer']]\n",
    "}\n",
    "df = pd.DataFrame(data)\n",
    "df"
   ]
  },
  {
   "cell_type": "markdown",
   "metadata": {},
   "source": [
    "#### Convert dataset into one-hot encoded format"
   ]
  },
  {
   "cell_type": "code",
   "execution_count": 10,
   "metadata": {},
   "outputs": [
    {
     "name": "stderr",
     "output_type": "stream",
     "text": [
      "d:\\Anaconda\\lib\\site-packages\\ipykernel\\ipkernel.py:287: DeprecationWarning: `should_run_async` will not call `transform_cell` automatically in the future. Please pass the result to `transformed_cell` argument and any exception that happen during thetransform in `preprocessing_exc_tuple` in IPython 7.17 and above.\n",
      "  and should_run_async(code)\n"
     ]
    }
   ],
   "source": [
    "# Convert dataset into one-hot encoded format\n",
    "te = TransactionEncoder()\n",
    "te_ary = te.fit(df['Items']).transform(df['Items'])\n",
    "df_encoded = pd.DataFrame(te_ary, columns=te.columns_\n",
    "                          )"
   ]
  },
  {
   "cell_type": "markdown",
   "metadata": {},
   "source": [
    "#### Apply Apriori algorithm & generating rules"
   ]
  },
  {
   "cell_type": "code",
   "execution_count": 11,
   "metadata": {},
   "outputs": [
    {
     "name": "stderr",
     "output_type": "stream",
     "text": [
      "d:\\Anaconda\\lib\\site-packages\\ipykernel\\ipkernel.py:287: DeprecationWarning: `should_run_async` will not call `transform_cell` automatically in the future. Please pass the result to `transformed_cell` argument and any exception that happen during thetransform in `preprocessing_exc_tuple` in IPython 7.17 and above.\n",
      "  and should_run_async(code)\n"
     ]
    }
   ],
   "source": [
    "# Apply Apriori algorithm\n",
    "frequent_itemsets = apriori(df_encoded, min_support=0.3, use_colnames=True)\n",
    "\n",
    "# Generate association rules\n",
    "association_rules = association_rules(frequent_itemsets, metric=\"confidence\", min_threshold=0.7)"
   ]
  },
  {
   "cell_type": "markdown",
   "metadata": {},
   "source": [
    "#### Plotting frequent itemsets"
   ]
  },
  {
   "cell_type": "code",
   "execution_count": 12,
   "metadata": {},
   "outputs": [
    {
     "name": "stderr",
     "output_type": "stream",
     "text": [
      "d:\\Anaconda\\lib\\site-packages\\ipykernel\\ipkernel.py:287: DeprecationWarning: `should_run_async` will not call `transform_cell` automatically in the future. Please pass the result to `transformed_cell` argument and any exception that happen during thetransform in `preprocessing_exc_tuple` in IPython 7.17 and above.\n",
      "  and should_run_async(code)\n"
     ]
    },
    {
     "data": {
      "image/png": "[encoded data removed]",
      "text/plain": [
       "<Figure size 576x432 with 1 Axes>"
      ]
     },
     "metadata": {
      "needs_background": "light"
     },
     "output_type": "display_data"
    }
   ],
   "source": [
    "\n",
    "# Plotting frequent itemsets\n",
    "plt.figure(figsize=(8, 6))\n",
    "plt.barh(range(len(frequent_itemsets)), frequent_itemsets['support'], align='center')\n",
    "plt.yticks(range(len(frequent_itemsets)), frequent_itemsets['itemsets'].apply(lambda x: ', '.join(x)))\n",
    "plt.xlabel('Support')\n",
    "plt.ylabel('Itemsets')\n",
    "plt.title('Frequent Itemsets')\n",
    "plt.show()"
   ]
  },
  {
   "cell_type": "markdown",
   "metadata": {},
   "source": [
    "#### Plotting association rules"
   ]
  },
  {
   "cell_type": "code",
   "execution_count": 15,
   "metadata": {},
   "outputs": [
    {
     "name": "stderr",
     "output_type": "stream",
     "text": [
      "d:\\Anaconda\\lib\\site-packages\\ipykernel\\ipkernel.py:287: DeprecationWarning: `should_run_async` will not call `transform_cell` automatically in the future. Please pass the result to `transformed_cell` argument and any exception that happen during thetransform in `preprocessing_exc_tuple` in IPython 7.17 and above.\n",
      "  and should_run_async(code)\n"
     ]
    },
    {
     "data": {
      "image/png": "[encoded data removed]",
      "text/plain": [
       "<Figure size 576x432 with 1 Axes>"
      ]
     },
     "metadata": {
      "needs_background": "light"
     },
     "output_type": "display_data"
    }
   ],
   "source": [
    "# Plotting association rules\n",
    "plt.figure(figsize=(8, 6))\n",
    "plt.scatter(association_rules['support'], association_rules['confidence'])\n",
    "plt.xlabel('Support')\n",
    "plt.ylabel('Confidence')\n",
    "plt.title('Association Rules')\n",
    "plt.show()"
   ]
  }
 ],
 "metadata": {
  "kernelspec": {
   "display_name": "base",
   "language": "python",
   "name": "python3"
  },
  "language_info": {
   "codemirror_mode": {
    "name": "ipython",
    "version": 3
   },
   "file_extension": ".py",
   "mimetype": "text/x-python",
   "name": "python",
   "nbconvert_exporter": "python",
   "pygments_lexer": "ipython3",
   "version": "3.8.5"
  }
 },
 "nbformat": 4,
 "nbformat_minor": 2
}
